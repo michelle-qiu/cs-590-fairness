{
 "cells": [
  {
   "cell_type": "code",
   "execution_count": 3,
   "id": "b1c1f9cf",
   "metadata": {},
   "outputs": [],
   "source": [
    "import pandas as pd\n",
    "import numpy as np"
   ]
  },
  {
   "cell_type": "code",
   "execution_count": 4,
   "id": "7290f34e",
   "metadata": {},
   "outputs": [],
   "source": [
    "path = \"data_share/data_share/datagen_new1_seed42/pums_random_error2080_nativity_ver1_newFDs\"\n",
    "dirty_4000_1 = pd.read_csv(path + \"/4000_0.1_dirty.csv\")\n",
    "clean_4000_1 = pd.read_csv(path + \"/4000_0.1_clean.csv\")\n",
    "\n",
    "dirty_4000_05 = pd.read_csv(path + \"/4000_0.05_dirty.csv\")\n",
    "clean_4000_05 = pd.read_csv(path + \"/4000_0.05_clean.csv\")\n",
    "\n",
    "dirty_6000_05 = pd.read_csv(path + \"/6000_0.05_dirty.csv\")\n",
    "clean_6000_05 = pd.read_csv(path + \"/6000_0.05_clean.csv\")"
   ]
  },
  {
   "cell_type": "code",
   "execution_count": 25,
   "id": "a8ed920e",
   "metadata": {},
   "outputs": [],
   "source": [
    "def cleanUp(clean, cols):\n",
    "    corrections = pd.DataFrame(columns=[\"tid\", \"attribute\", \"correct_val\"])\n",
    "    k = 0\n",
    "    for i in range(len(clean)):\n",
    "        for c in cols:\n",
    "            if str(clean.loc[i,c+\"_dirty\"])!=\"nan\":\n",
    "                corrections.loc[k, \"tid\"] = i\n",
    "                corrections.loc[k, \"attribute\"]=c\n",
    "                corrections.loc[k, \"correct_val\"] = str(clean.loc[i,c])\n",
    "                k+=1\n",
    "    return corrections"
   ]
  },
  {
   "cell_type": "code",
   "execution_count": 41,
   "id": "45841418",
   "metadata": {},
   "outputs": [
    {
     "data": {
      "text/plain": [
       "RAC1P\n",
       "1    3959\n",
       "9     692\n",
       "2     536\n",
       "6     370\n",
       "8     359\n",
       "3      63\n",
       "5       8\n",
       "7       7\n",
       "4       6\n",
       "Name: count, dtype: int64"
      ]
     },
     "execution_count": 41,
     "metadata": {},
     "output_type": "execute_result"
    }
   ],
   "source": [
    "clean[\"RAC1P\"].value_counts()"
   ]
  },
  {
   "cell_type": "code",
   "execution_count": 44,
   "id": "1a9350ad",
   "metadata": {},
   "outputs": [
    {
     "data": {
      "text/plain": [
       "RAC1P\n",
       "1    3826\n",
       "9     689\n",
       "2     556\n",
       "8     358\n",
       "6     351\n",
       "3      95\n",
       "4      48\n",
       "5      40\n",
       "7      37\n",
       "Name: count, dtype: int64"
      ]
     },
     "execution_count": 44,
     "metadata": {},
     "output_type": "execute_result"
    }
   ],
   "source": [
    "dirty[\"RAC1P\"].value_counts()"
   ]
  },
  {
   "cell_type": "code",
   "execution_count": 45,
   "id": "1bd8709d",
   "metadata": {},
   "outputs": [
    {
     "data": {
      "text/plain": [
       "RAC1P\n",
       "1    4042\n",
       "9     673\n",
       "2     523\n",
       "6     349\n",
       "8     348\n",
       "3      44\n",
       "5       9\n",
       "7       8\n",
       "4       4\n",
       "Name: count, dtype: int64"
      ]
     },
     "execution_count": 45,
     "metadata": {},
     "output_type": "execute_result"
    }
   ],
   "source": [
    "repaired[\"RAC1P\"].value_counts()"
   ]
  },
  {
   "cell_type": "code",
   "execution_count": 48,
   "id": "85693d8f",
   "metadata": {},
   "outputs": [
    {
     "name": "stdout",
     "output_type": "stream",
     "text": [
      "84\n",
      "0.014\n",
      "\n",
      "210\n",
      "0.035\n",
      "\n",
      "65\n",
      "0.010833333333333334\n"
     ]
    }
   ],
   "source": [
    "print(63+8+7+6)\n",
    "print(84/6000)\n",
    "print()\n",
    "\n",
    "print(95+48+40+27)\n",
    "print(210/6000)\n",
    "print()\n",
    "\n",
    "print(44+8+9+4)\n",
    "print(65/6000)"
   ]
  },
  {
   "cell_type": "code",
   "execution_count": 31,
   "id": "5a37b85c",
   "metadata": {},
   "outputs": [],
   "source": [
    "cols = [\"REGION\", \"ST\", \"CIT\", \"NATIVITY\", \"RAC1P\", \"RAC2P\", \"POBP\", \"WAOB\"]\n",
    "\n",
    "clean_4000_1_new = cleanUp(clean_4000_1, cols)\n",
    "clean_4000_05_new = cleanUp(clean_4000_05, cols)\n",
    "clean_6000_05_new = cleanUp(clean_6000_05, cols)"
   ]
  },
  {
   "cell_type": "code",
   "execution_count": null,
   "id": "4c5a054e",
   "metadata": {},
   "outputs": [],
   "source": []
  },
  {
   "cell_type": "code",
   "execution_count": 32,
   "id": "9c84590e",
   "metadata": {},
   "outputs": [],
   "source": [
    "dirty_4000_1 = dirty_4000_1.drop(\"ID\", axis=1)\n",
    "dirty_4000_05 = dirty_4000_05.drop(\"ID\", axis=1)\n",
    "dirty_6000_05 = dirty_6000_05.drop(\"ID\", axis=1)\n",
    "\n",
    "dirty_4000_1.to_csv(\"holoclean/testdata/4000_0.1_dirty.csv\", index=False)\n",
    "dirty_4000_05.to_csv(\"holoclean/testdata/4000_0.05_dirty.csv\", index=False)\n",
    "clean_4000_1_new.to_csv(\"holoclean/testdata/4000_0.1_clean.csv\", index=False)\n",
    "clean_4000_05_new.to_csv(\"holoclean/testdata/4000_0.05_clean.csv\", index=False)\n",
    "\n",
    "dirty_6000_05.to_csv(\"holoclean/testdata/6000_0.05_dirty.csv\", index=False)\n",
    "clean_6000_05_new.to_csv(\"holoclean/testdata/6000_0.05_clean.csv\", index=False)"
   ]
  },
  {
   "cell_type": "code",
   "execution_count": 28,
   "id": "920b0645",
   "metadata": {},
   "outputs": [],
   "source": [
    "clean = pd.read_csv(\"pums_random_error2080_nativity_ver1_newFDs/6000_0.05_clean.csv\")\n",
    "dirty = pd.read_csv(\"pums_random_error2080_nativity_ver1_newFDs/6000_0.05_dirty.csv\")\n",
    "repaired = pd.read_csv(\"pums_random_error2080_nativity_ver1_newFDs/6000_0.05_repaired.csv\")\n",
    "\n",
    "cols = [\"REGION\", \"ST\", \"CIT\", \"NATIVITY\", \"RAC1P\", \"RAC2P\", \"POBP\", \"WAOB\"]\n",
    "\n",
    "repaired = repaired.drop(\"_tid_\", axis=1)\n",
    "corrections = cleanUp(clean, cols)\n",
    "dirty = dirty.drop(\"ID\", axis=1)\n",
    "clean = clean.iloc[:, :-9] \n"
   ]
  },
  {
   "cell_type": "code",
   "execution_count": 29,
   "id": "e9696f18",
   "metadata": {},
   "outputs": [
    {
     "data": {
      "text/html": [
       "<div>\n",
       "<style scoped>\n",
       "    .dataframe tbody tr th:only-of-type {\n",
       "        vertical-align: middle;\n",
       "    }\n",
       "\n",
       "    .dataframe tbody tr th {\n",
       "        vertical-align: top;\n",
       "    }\n",
       "\n",
       "    .dataframe thead th {\n",
       "        text-align: right;\n",
       "    }\n",
       "</style>\n",
       "<table border=\"1\" class=\"dataframe\">\n",
       "  <thead>\n",
       "    <tr style=\"text-align: right;\">\n",
       "      <th></th>\n",
       "      <th>tid</th>\n",
       "      <th>attribute</th>\n",
       "      <th>correct_val</th>\n",
       "    </tr>\n",
       "  </thead>\n",
       "  <tbody>\n",
       "    <tr>\n",
       "      <th>0</th>\n",
       "      <td>0</td>\n",
       "      <td>RAC1P</td>\n",
       "      <td>6</td>\n",
       "    </tr>\n",
       "    <tr>\n",
       "      <th>1</th>\n",
       "      <td>2</td>\n",
       "      <td>REGION</td>\n",
       "      <td>3</td>\n",
       "    </tr>\n",
       "    <tr>\n",
       "      <th>2</th>\n",
       "      <td>2</td>\n",
       "      <td>RAC2P</td>\n",
       "      <td>55</td>\n",
       "    </tr>\n",
       "    <tr>\n",
       "      <th>3</th>\n",
       "      <td>3</td>\n",
       "      <td>RAC1P</td>\n",
       "      <td>9</td>\n",
       "    </tr>\n",
       "    <tr>\n",
       "      <th>4</th>\n",
       "      <td>4</td>\n",
       "      <td>RAC1P</td>\n",
       "      <td>6</td>\n",
       "    </tr>\n",
       "    <tr>\n",
       "      <th>...</th>\n",
       "      <td>...</td>\n",
       "      <td>...</td>\n",
       "      <td>...</td>\n",
       "    </tr>\n",
       "    <tr>\n",
       "      <th>2395</th>\n",
       "      <td>5970</td>\n",
       "      <td>NATIVITY</td>\n",
       "      <td>1</td>\n",
       "    </tr>\n",
       "    <tr>\n",
       "      <th>2396</th>\n",
       "      <td>5982</td>\n",
       "      <td>WAOB</td>\n",
       "      <td>1</td>\n",
       "    </tr>\n",
       "    <tr>\n",
       "      <th>2397</th>\n",
       "      <td>5990</td>\n",
       "      <td>ST</td>\n",
       "      <td>42</td>\n",
       "    </tr>\n",
       "    <tr>\n",
       "      <th>2398</th>\n",
       "      <td>5992</td>\n",
       "      <td>ST</td>\n",
       "      <td>36</td>\n",
       "    </tr>\n",
       "    <tr>\n",
       "      <th>2399</th>\n",
       "      <td>5999</td>\n",
       "      <td>RAC2P</td>\n",
       "      <td>1</td>\n",
       "    </tr>\n",
       "  </tbody>\n",
       "</table>\n",
       "<p>2400 rows × 3 columns</p>\n",
       "</div>"
      ],
      "text/plain": [
       "       tid attribute correct_val\n",
       "0        0     RAC1P           6\n",
       "1        2    REGION           3\n",
       "2        2     RAC2P          55\n",
       "3        3     RAC1P           9\n",
       "4        4     RAC1P           6\n",
       "...    ...       ...         ...\n",
       "2395  5970  NATIVITY           1\n",
       "2396  5982      WAOB           1\n",
       "2397  5990        ST          42\n",
       "2398  5992        ST          36\n",
       "2399  5999     RAC2P           1\n",
       "\n",
       "[2400 rows x 3 columns]"
      ]
     },
     "execution_count": 29,
     "metadata": {},
     "output_type": "execute_result"
    }
   ],
   "source": [
    "corrections"
   ]
  },
  {
   "cell_type": "code",
   "execution_count": 32,
   "id": "7b133ac6",
   "metadata": {
    "scrolled": true
   },
   "outputs": [
    {
     "name": "stdout",
     "output_type": "stream",
     "text": [
      "Total Repair Count: 3325\n",
      "Incorrect Repair Count: 1838\n",
      "Correct Repair Count: 1487\n",
      "Incorrect Cells Touched: 3256\n",
      "Incorrect Cells Not Touched: 631\n"
     ]
    }
   ],
   "source": [
    "# calculte precision, recall?\n",
    "\n",
    "# get the number of total corrections made\n",
    "# get the number of cells that were correctly repaired on them\n",
    "# get the number of cells that were incorrectly repaired\n",
    "# get the number of total correct repair\n",
    "# get the number of total correct repairs made\n",
    "\n",
    "def get_total_incorrect_repairs(repaired, dirty, clean):\n",
    "    total_repair_count = 0\n",
    "    incorrect_repair_count = 0\n",
    "\n",
    "    for i in range(len(repaired)):\n",
    "        for c in repaired.columns:\n",
    "            if repaired.loc[i, c]!=dirty.loc[i,c]:\n",
    "                total_repair_count+=1\n",
    "            if repaired.loc[i,c]!=dirty.loc[i,c] and repaired.loc[i, c]!=clean.loc[i,c]:\n",
    "                 incorrect_repair_count+=1\n",
    "                    \n",
    "    return total_repair_count, incorrect_repair_count\n",
    "\n",
    "\n",
    "def correct_repairs(corrections, repaired, dirty):\n",
    "    correct_repair_count = 0 \n",
    "    incorrect_cells_touched = 0\n",
    "    incorrect_cells_not_touched = 0\n",
    "    for i in range(len(corrections)):\n",
    "        tid = corrections.loc[i, \"tid\"]\n",
    "        attr = corrections.loc[i, \"attribute\"]\n",
    "        correct = corrections.loc[i, \"correct_val\"]\n",
    "    \n",
    "        if str(repaired.loc[tid, attr])==str(correct):\n",
    "            correct_repair_count+=1\n",
    "        if repaired.loc[tid, attr]!=dirty.loc[tid, attr] and repaired.loc[tid, attr]!=correct:\n",
    "            incorrect_cells_touched+=1\n",
    "        if repaired.loc[tid, attr]==dirty.loc[tid, attr]:\n",
    "            incorrect_cells_not_touched +=1\n",
    "    incorrect_cells_touched+=correct_repair_count\n",
    "    return correct_repair_count, incorrect_cells_touched, incorrect_cells_not_touched\n",
    "\n",
    "total_repair_count, incorrect_repair_count = get_total_incorrect_repairs(repaired, dirty, clean)\n",
    "correct_repair_count, incorrect_cells_touched, incorrect_cells_not_touched = correct_repairs(corrections, repaired, dirty)\n",
    "print(f\"Total Repair Count: {total_repair_count}\")\n",
    "print(f\"Incorrect Repair Count: {incorrect_repair_count}\")\n",
    "print(f\"Correct Repair Count: {correct_repair_count}\")\n",
    "print(f\"Incorrect Cells Touched: {incorrect_cells_touched}\")\n",
    "print(f\"Incorrect Cells Not Touched: {incorrect_cells_not_touched}\")"
   ]
  },
  {
   "cell_type": "code",
   "execution_count": 35,
   "id": "ea2e5609",
   "metadata": {},
   "outputs": [
    {
     "name": "stdout",
     "output_type": "stream",
     "text": [
      "Recall 0.6195833333333334\n",
      "Repair Recll 0.4566953316953317\n"
     ]
    }
   ],
   "source": [
    "print(\"Recall\", 1487/len(corrections))\n",
    "print(\"Repair Recll\", 1487/3256)"
   ]
  },
  {
   "cell_type": "code",
   "execution_count": 37,
   "id": "130273c4",
   "metadata": {},
   "outputs": [
    {
     "name": "stdout",
     "output_type": "stream",
     "text": [
      "2400\n"
     ]
    }
   ],
   "source": [
    "print(len(corrections))"
   ]
  },
  {
   "cell_type": "code",
   "execution_count": null,
   "id": "35b0dd27",
   "metadata": {},
   "outputs": [],
   "source": [
    "def recall(c)"
   ]
  },
  {
   "cell_type": "code",
   "execution_count": 13,
   "id": "37220c15",
   "metadata": {},
   "outputs": [
    {
     "data": {
      "text/plain": [
       "4000"
      ]
     },
     "execution_count": 13,
     "metadata": {},
     "output_type": "execute_result"
    }
   ],
   "source": [
    "dirty = pd.read_csv(\"holoclean/testdata/hospital.csv\")\n",
    "dirty = pd.read_csv(\"holoclean/testdata/4000_0.1_dirty.csv\")\n",
    "len(set(dirty[\"ID\"]))"
   ]
  }
 ],
 "metadata": {
  "kernelspec": {
   "display_name": "Python 3 (ipykernel)",
   "language": "python",
   "name": "python3"
  },
  "language_info": {
   "codemirror_mode": {
    "name": "ipython",
    "version": 3
   },
   "file_extension": ".py",
   "mimetype": "text/x-python",
   "name": "python",
   "nbconvert_exporter": "python",
   "pygments_lexer": "ipython3",
   "version": "3.11.5"
  }
 },
 "nbformat": 4,
 "nbformat_minor": 5
}
